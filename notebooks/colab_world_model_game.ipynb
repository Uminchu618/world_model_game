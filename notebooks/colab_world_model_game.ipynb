{
  "nbformat": 4,
  "nbformat_minor": 5,
  "metadata": {
    "kernelspec": {
      "display_name": "Python 3",
      "language": "python",
      "name": "python3"
    },
    "language_info": {
      "name": "python",
      "version": "3.10"
    },
    "colab": {
      "provenance": []
    }
  },
  "cells": [
    {
      "cell_type": "markdown",
      "metadata": {
        "id": "5q7UpZKh9N1G"
      },
      "source": [
        "# Google Colab 実験ノートブック\n",
        "このノートブックは、Google Colab 上で **世界モデルを用いたタグ付き協調ゲーム** の学習・解析コードを実行するためのハンズオン手順をまとめたものです。\n",
        "リポジトリを取得して依存ライブラリを導入し、最小構成の自己対戦実験を再現する流れを順に確認します。\n"
      ],
      "id": "5q7UpZKh9N1G"
    },
    {
      "cell_type": "markdown",
      "metadata": {
        "id": "BDDQ4ZVY9N1I"
      },
      "source": [
        "## 手順概要\n",
        "1. GitHub からリポジトリを取得して作業ディレクトリを移動します。\n",
        "2. PyTorch など必要な Python パッケージをインストールします。\n",
        "3. サンプル設定で学習 + 解析の一括スクリプトを実行し、結果 JSON を確認します。\n",
        "4. 研究目的に合わせてハイパーパラメータや解析を変更します。\n"
      ],
      "id": "BDDQ4ZVY9N1I"
    },
    {
      "cell_type": "code",
      "source": [
        "from google.colab import drive\n",
        "drive.mount('/content/drive')\n",
        "%cd \"/content/drive/MyDrive/Colab Notebooks/world_game_model\""
      ],
      "metadata": {
        "id": "sIow_0jH9Qmg",
        "outputId": "dfc151ff-2900-411f-848f-8a19b45567b0",
        "colab": {
          "base_uri": "https://localhost:8080/",
          "height": 73
        }
      },
      "id": "sIow_0jH9Qmg",
      "execution_count": 5,
      "outputs": [
        {
          "output_type": "stream",
          "name": "stdout",
          "text": [
            "Drive already mounted at /content/drive; to attempt to forcibly remount, call drive.mount(\"/content/drive\", force_remount=True).\n",
            "/content/drive/MyDrive/Colab Notebooks/world_game_model\n"
          ]
        },
        {
          "output_type": "execute_result",
          "data": {
            "text/plain": [
              "'/content/drive/MyDrive/Colab Notebooks/world_game_model'"
            ],
            "application/vnd.google.colaboratory.intrinsic+json": {
              "type": "string"
            }
          },
          "metadata": {},
          "execution_count": 5
        }
      ]
    },
    {
      "cell_type": "code",
      "source": [
        "!git clone https://github.com/Uminchu618/world_model_game.git"
      ],
      "metadata": {
        "id": "_0pPgScg-OwI",
        "outputId": "f98a071a-8726-42c7-fbf0-1f446b2d88f4",
        "colab": {
          "base_uri": "https://localhost:8080/"
        }
      },
      "id": "_0pPgScg-OwI",
      "execution_count": 6,
      "outputs": [
        {
          "output_type": "stream",
          "name": "stdout",
          "text": [
            "Cloning into 'world_model_game'...\n",
            "remote: Enumerating objects: 43, done.\u001b[K\n",
            "remote: Counting objects: 100% (43/43), done.\u001b[K\n",
            "remote: Compressing objects: 100% (40/40), done.\u001b[K\n",
            "remote: Total 43 (delta 16), reused 0 (delta 0), pack-reused 0 (from 0)\u001b[K\n",
            "Receiving objects: 100% (43/43), 27.43 KiB | 1.71 MiB/s, done.\n",
            "Resolving deltas: 100% (16/16), done.\n"
          ]
        }
      ]
    },
    {
      "cell_type": "code",
      "source": [],
      "metadata": {
        "id": "LXiViR5i-Zi1"
      },
      "id": "LXiViR5i-Zi1",
      "execution_count": null,
      "outputs": []
    },
    {
      "cell_type": "code",
      "execution_count": null,
      "metadata": {
        "id": "setup-repo"
      },
      "outputs": [],
      "source": [
        "#@title リポジトリを取得して作業フォルダに移動する\n",
        "import os\n",
        "import subprocess\n",
        "from pathlib import Path\n",
        "\n",
        "PROJECT_DIR = Path.cwd() / \"world_model_game\"\n",
        "\n",
        "if not PROJECT_DIR.exists():\n",
        "    repo_url = input(\"クローンするGitHubリポジトリURLを入力してください (例: https://github.com/your-account/world_model_game.git): \").strip()\n",
        "    if not repo_url:\n",
        "        raise RuntimeError(\"リポジトリURLが指定されていません。上の説明を参照して正しいURLを入力してください。\")\n",
        "    subprocess.run([\"git\", \"clone\", repo_url], check=True)\n",
        "    repo_name = repo_url.rstrip(\"/\").split(\"/\")[-1]\n",
        "    if repo_name.endswith(\".git\"):\n",
        "        repo_name = repo_name[:-4]\n",
        "    PROJECT_DIR = Path.cwd() / repo_name\n",
        "    if not PROJECT_DIR.exists():\n",
        "        raise RuntimeError(f\"期待したディレクトリ {repo_name} が見つかりません。クローン先を確認してください。\")\n",
        "else:\n",
        "    print(\"既存の world_model_game ディレクトリを使用します。\")\n",
        "\n",
        "os.chdir(PROJECT_DIR)\n",
        "print(f\"作業ディレクトリ: {Path.cwd()}\")\n"
      ],
      "id": "setup-repo"
    },
    {
      "cell_type": "code",
      "execution_count": null,
      "metadata": {
        "id": "install-deps"
      },
      "outputs": [],
      "source": [
        "#@title 依存ライブラリをインストールする\n",
        "import importlib\n",
        "import subprocess\n",
        "import sys\n",
        "\n",
        "def ensure(package: str, pip_target: str | None = None) -> None:\n",
        "    '''指定したパッケージが無ければ pip でインストールする。'''\n",
        "    try:\n",
        "        importlib.import_module(package)\n",
        "        print(f\"{package} は既にインストールされています。\")\n",
        "    except ImportError:\n",
        "        target = pip_target or package\n",
        "        print(f\"{target} をインストールします...\")\n",
        "        subprocess.run([sys.executable, \"-m\", \"pip\", \"install\", \"--quiet\", target], check=True)\n",
        "        importlib.import_module(package)\n",
        "        print(f\"{package} のインストールが完了しました。\")\n",
        "\n",
        "ensure(\"torch\", \"torch\")\n",
        "ensure(\"numpy\")\n"
      ],
      "id": "install-deps"
    },
    {
      "cell_type": "code",
      "execution_count": null,
      "metadata": {
        "id": "run-experiment"
      },
      "outputs": [],
      "source": [
        "#@title サンプル設定で学習と解析を実行する\n",
        "import subprocess\n",
        "import sys\n",
        "from pathlib import Path\n",
        "\n",
        "output_path = Path(\"experiment_results_sample.json\")\n",
        "cmd = [\n",
        "    sys.executable,\n",
        "    \"scripts/run_experiment.py\",\n",
        "    \"--episodes\", \"200\",\n",
        "    \"--max-steps\", \"10\",\n",
        "    \"--num-agents\", \"4\",\n",
        "    \"--output\", str(output_path),\n",
        "]\n",
        "print(\"実行コマンド:\", \" \".join(cmd))\n",
        "subprocess.run(cmd, check=True)\n",
        "print(\"結果を\", output_path, \"に保存しました。\")\n"
      ],
      "id": "run-experiment"
    },
    {
      "cell_type": "code",
      "execution_count": null,
      "metadata": {
        "id": "inspect-results"
      },
      "outputs": [],
      "source": [
        "#@title 生成された結果 JSON を確認する\n",
        "import json\n",
        "from pathlib import Path\n",
        "\n",
        "output_path = Path(\"experiment_results_sample.json\")\n",
        "if not output_path.exists():\n",
        "    raise FileNotFoundError(\"結果ファイルがまだ生成されていません。前のセルを実行してください。\")\n",
        "\n",
        "with output_path.open(\"r\", encoding=\"utf-8\") as f:\n",
        "    data = json.load(f)\n",
        "\n",
        "data\n"
      ],
      "id": "inspect-results"
    },
    {
      "cell_type": "markdown",
      "metadata": {
        "id": "7b0VpzNA9N1M"
      },
      "source": [
        "## 次のステップ\n",
        "- `scripts/run_experiment.py` の引数を変更して、エピソード数やエージェント数、タグの種類などを探索してください。\n",
        "- `world_model_game/analysis.py` の関数を直接呼び出すセルを追加し、隠れ状態プロービングやアテンション分析を個別に試せます。\n",
        "- 計算資源に余裕がある場合は Colab Pro+ や GPU セッションを利用し、より長いエピソードや大きなモデルを学習させることも可能です。\n"
      ],
      "id": "7b0VpzNA9N1M"
    }
  ]
}