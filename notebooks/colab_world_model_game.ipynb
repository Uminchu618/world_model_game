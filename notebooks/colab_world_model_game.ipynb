{
  "nbformat": 4,
  "nbformat_minor": 5,
  "metadata": {
    "kernelspec": {
      "display_name": "Python 3",
      "language": "python",
      "name": "python3"
    },
    "language_info": {
      "name": "python",
      "version": "3.10"
    }
  },
  "cells": [
    {
      "cell_type": "markdown",
      "metadata": {},
      "source": [
        "# Google Colab 実験ノートブック\n",
        "このノートブックは、Google Colab 上で **世界モデルを用いたタグ付き協調ゲーム** の学習・解析コードを実行するためのハンズオン手順をまとめたものです。\n",
        "リポジトリを取得して依存ライブラリを導入し、最小構成の自己対戦実験を再現する流れを順に確認します。\n"
      ]
    },
    {
      "cell_type": "markdown",
      "metadata": {},
      "source": [
        "## 手順概要\n",
        "1. GitHub からリポジトリを取得して作業ディレクトリを移動します。\n",
        "2. PyTorch など必要な Python パッケージをインストールします。\n",
        "3. サンプル設定で学習 + 解析の一括スクリプトを実行し、結果 JSON を確認します。\n",
        "4. 研究目的に合わせてハイパーパラメータや解析を変更します。\n"
      ]
    },
    {
      "cell_type": "code",
      "execution_count": null,
      "metadata": {
        "id": "setup-repo"
      },
      "outputs": [],
      "source": [
        "#@title リポジトリを取得して作業フォルダに移動する\n",
        "import os\n",
        "import subprocess\n",
        "from pathlib import Path\n",
        "\n",
        "PROJECT_DIR = Path.cwd() / \"world_model_game\"\n",
        "\n",
        "if not PROJECT_DIR.exists():\n",
        "    repo_url = input(\"クローンするGitHubリポジトリURLを入力してください (例: https://github.com/your-account/world_model_game.git): \").strip()\n",
        "    if not repo_url:\n",
        "        raise RuntimeError(\"リポジトリURLが指定されていません。上の説明を参照して正しいURLを入力してください。\")\n",
        "    subprocess.run([\"git\", \"clone\", repo_url], check=True)\n",
        "    repo_name = repo_url.rstrip(\"/\").split(\"/\")[-1]\n",
        "    if repo_name.endswith(\".git\"):\n",
        "        repo_name = repo_name[:-4]\n",
        "    PROJECT_DIR = Path.cwd() / repo_name\n",
        "    if not PROJECT_DIR.exists():\n",
        "        raise RuntimeError(f\"期待したディレクトリ {repo_name} が見つかりません。クローン先を確認してください。\")\n",
        "else:\n",
        "    print(\"既存の world_model_game ディレクトリを使用します。\")\n",
        "\n",
        "os.chdir(PROJECT_DIR)\n",
        "print(f\"作業ディレクトリ: {Path.cwd()}\")\n"
      ]
    },
    {
      "cell_type": "code",
      "execution_count": null,
      "metadata": {
        "id": "install-deps"
      },
      "outputs": [],
      "source": [
        "#@title 依存ライブラリをインストールする\n",
        "import importlib\n",
        "import subprocess\n",
        "import sys\n",
        "\n",
        "def ensure(package: str, pip_target: str | None = None) -> None:\n",
        "    '''指定したパッケージが無ければ pip でインストールする。'''\n",
        "    try:\n",
        "        importlib.import_module(package)\n",
        "        print(f\"{package} は既にインストールされています。\")\n",
        "    except ImportError:\n",
        "        target = pip_target or package\n",
        "        print(f\"{target} をインストールします...\")\n",
        "        subprocess.run([sys.executable, \"-m\", \"pip\", \"install\", \"--quiet\", target], check=True)\n",
        "        importlib.import_module(package)\n",
        "        print(f\"{package} のインストールが完了しました。\")\n",
        "\n",
        "ensure(\"torch\", \"torch\")\n",
        "ensure(\"numpy\")\n"
      ]
    },
    {
      "cell_type": "code",
      "execution_count": null,
      "metadata": {
        "id": "run-experiment"
      },
      "outputs": [],
      "source": [
        "#@title サンプル設定で学習と解析を実行する\n",
        "import subprocess\n",
        "import sys\n",
        "from pathlib import Path\n",
        "\n",
        "output_path = Path(\"experiment_results_sample.json\")\n",
        "cmd = [\n",
        "    sys.executable,\n",
        "    \"scripts/run_experiment.py\",\n",
        "    \"--episodes\", \"200\",\n",
        "    \"--max-steps\", \"10\",\n",
        "    \"--num-agents\", \"4\",\n",
        "    \"--output\", str(output_path),\n",
        "]\n",
        "print(\"実行コマンド:\", \" \".join(cmd))\n",
        "subprocess.run(cmd, check=True)\n",
        "print(\"結果を\", output_path, \"に保存しました。\")\n"
      ]
    },
    {
      "cell_type": "code",
      "execution_count": null,
      "metadata": {
        "id": "inspect-results"
      },
      "outputs": [],
      "source": [
        "#@title 生成された結果 JSON を確認する\n",
        "import json\n",
        "from pathlib import Path\n",
        "\n",
        "output_path = Path(\"experiment_results_sample.json\")\n",
        "if not output_path.exists():\n",
        "    raise FileNotFoundError(\"結果ファイルがまだ生成されていません。前のセルを実行してください。\")\n",
        "\n",
        "with output_path.open(\"r\", encoding=\"utf-8\") as f:\n",
        "    data = json.load(f)\n",
        "\n",
        "data\n"
      ]
    },
    {
      "cell_type": "markdown",
      "metadata": {},
      "source": [
        "## 次のステップ\n",
        "- `scripts/run_experiment.py` の引数を変更して、エピソード数やエージェント数、タグの種類などを探索してください。\n",
        "- `world_model_game/analysis.py` の関数を直接呼び出すセルを追加し、隠れ状態プロービングやアテンション分析を個別に試せます。\n",
        "- 計算資源に余裕がある場合は Colab Pro+ や GPU セッションを利用し、より長いエピソードや大きなモデルを学習させることも可能です。\n"
      ]
    }
  ]
}